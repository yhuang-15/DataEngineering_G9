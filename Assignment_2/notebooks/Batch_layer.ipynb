{
 "cells": [
  {
   "cell_type": "code",
   "execution_count": 128,
   "id": "256a06e8-5c19-493f-b597-b21467b7d585",
   "metadata": {},
   "outputs": [],
   "source": [
    "from pyspark.sql import SparkSession\n",
    "from pyspark import SparkConf\n",
    "from pyspark.sql.window import Window\n",
    "from pyspark.sql.functions import row_number, col, count, round\n",
    "\n",
    "\n",
    "sparkConf = SparkConf()\n",
    "sparkConf.setMaster(\"spark://spark-master:7077\")\n",
    "sparkConf.setAppName(\"Assignment_2_Batch\")\n",
    "sparkConf.set(\"spark.driver.memory\", \"2g\")\n",
    "sparkConf.set(\"spark.executor.cores\", \"1\")\n",
    "sparkConf.set(\"spark.driver.cores\", \"1\")\n",
    "# create the spark session, which is the entry point to Spark SQL engine.\n",
    "spark = SparkSession.builder.config(conf=sparkConf).getOrCreate()\n",
    "\n",
    "# Setup hadoop fs configuration for schema gs://\n",
    "conf = spark.sparkContext._jsc.hadoopConfiguration()\n",
    "conf.set(\"fs.gs.impl\", \"com.google.cloud.hadoop.fs.gcs.GoogleHadoopFileSystem\")\n",
    "conf.set(\"fs.AbstractFileSystem.gs.impl\", \"com.google.cloud.hadoop.fs.gcs.GoogleHadoopFS\")\n",
    "\n",
    "#  Google Storage File Path\n",
    "airport_info_gsc_file_path = 'gs://dejads_a2_input_steven/AIRPORT_COORDINATES.csv'   \n",
    "month_1_delay_gsc_file_path = 'gs://dejads_a2_input_steven/ONTIME_REPORTING_01.csv'   "
   ]
  },
  {
   "cell_type": "code",
   "execution_count": 129,
   "id": "1b08d02a-a5d1-4e2d-87c4-7d1edb2a112a",
   "metadata": {
    "tags": []
   },
   "outputs": [],
   "source": [
    "# Create data frame load batch data - AIRPORT_COORDINATES.csv\n",
    "df_airport = spark.read.format(\"csv\").option(\"header\", \"true\").load(airport_info_gsc_file_path)"
   ]
  },
  {
   "cell_type": "code",
   "execution_count": 130,
   "id": "b19e4582-edbc-48a4-8aba-dd9c3b30df7a",
   "metadata": {},
   "outputs": [],
   "source": [
    "# Create data frame load batch data - ONTIME_REPORTING_01.csv\n",
    "df_flight = spark.read.format(\"csv\").option(\"header\", \"true\").load(month_1_delay_gsc_file_path)"
   ]
  },
  {
   "cell_type": "code",
   "execution_count": 131,
   "id": "aaffb603-d65c-41ad-a8a2-1b827283a9da",
   "metadata": {
    "tags": []
   },
   "outputs": [
    {
     "name": "stdout",
     "output_type": "stream",
     "text": [
      "root\n",
      " |-- ORIGIN_AIRPORT_ID: string (nullable = true)\n",
      " |-- DISPLAY_AIRPORT_NAME: string (nullable = true)\n",
      " |-- LATITUDE: string (nullable = true)\n",
      " |-- LONGITUDE: string (nullable = true)\n",
      "\n",
      "+-----------------+------------------------+-----------+------------+\n",
      "|ORIGIN_AIRPORT_ID|DISPLAY_AIRPORT_NAME    |LATITUDE   |LONGITUDE   |\n",
      "+-----------------+------------------------+-----------+------------+\n",
      "|10001            |Afognak Lake Airport    |58.10944444|-152.9066667|\n",
      "|10003            |Bear Creek Mining Strip |65.54805556|-161.0716667|\n",
      "|10004            |Lik Mining Camp         |68.08333333|-163.1666667|\n",
      "|10005            |Little Squaw Airport    |67.57      |-148.1838889|\n",
      "|10006            |Kizhuyak Bay            |57.74527778|-152.8827778|\n",
      "|10007            |Klawock Seaplane Base   |55.55472222|-133.1016667|\n",
      "|10008            |Elizabeth Island Airport|59.15694444|-151.8291667|\n",
      "|10009            |Augustin Island         |59.36277778|-153.4305556|\n",
      "|10010            |Columbia County         |42.28888889|-73.71027778|\n",
      "|10010            |Columbia County         |42.29138889|-73.71027778|\n",
      "|10011            |Grand Canyon West       |35.99027778|-113.8163889|\n",
      "|10011            |Grand Canyon West       |35.98611111|-113.8169444|\n",
      "|10011            |Grand Canyon West       |35.99027778|-113.8163889|\n",
      "|10011            |Grand Canyon West       |35.98611111|-113.8169444|\n",
      "|10012            |Blairstown Airport      |40.97111111|-74.9975    |\n",
      "|10013            |Crosbyton Municipal     |33.62388889|-101.2408333|\n",
      "|10014            |Blair Lake              |64.36416667|-147.3613889|\n",
      "|10014            |Blair Lake              |64.36361111|-147.3638889|\n",
      "|10015            |Deadmans Bay Airport    |57.06666667|-153.9377778|\n",
      "|10016            |Hallo Bay Airport       |58.4575    |-154.0233333|\n",
      "+-----------------+------------------------+-----------+------------+\n",
      "only showing top 20 rows\n",
      "\n"
     ]
    }
   ],
   "source": [
    "df_airport.printSchema()\n",
    "df_airport.show(truncate=False)"
   ]
  },
  {
   "cell_type": "code",
   "execution_count": 132,
   "id": "9a5172b8-45c8-48cd-a26a-4f932d179a72",
   "metadata": {
    "tags": []
   },
   "outputs": [
    {
     "name": "stdout",
     "output_type": "stream",
     "text": [
      "root\n",
      " |-- MONTH: string (nullable = true)\n",
      " |-- DAY_OF_MONTH: string (nullable = true)\n",
      " |-- DAY_OF_WEEK: string (nullable = true)\n",
      " |-- OP_UNIQUE_CARRIER: string (nullable = true)\n",
      " |-- TAIL_NUM: string (nullable = true)\n",
      " |-- OP_CARRIER_FL_NUM: string (nullable = true)\n",
      " |-- ORIGIN_AIRPORT_ID: string (nullable = true)\n",
      " |-- ORIGIN: string (nullable = true)\n",
      " |-- ORIGIN_CITY_NAME: string (nullable = true)\n",
      " |-- DEST_AIRPORT_ID: string (nullable = true)\n",
      " |-- DEST: string (nullable = true)\n",
      " |-- DEST_CITY_NAME: string (nullable = true)\n",
      " |-- CRS_DEP_TIME: string (nullable = true)\n",
      " |-- DEP_TIME: string (nullable = true)\n",
      " |-- DEP_DELAY_NEW: string (nullable = true)\n",
      " |-- DEP_DEL15: string (nullable = true)\n",
      " |-- DEP_TIME_BLK: string (nullable = true)\n",
      " |-- CRS_ARR_TIME: string (nullable = true)\n",
      " |-- ARR_TIME: string (nullable = true)\n",
      " |-- ARR_DELAY_NEW: string (nullable = true)\n",
      " |-- ARR_TIME_BLK: string (nullable = true)\n",
      " |-- CANCELLED: string (nullable = true)\n",
      " |-- CANCELLATION_CODE: string (nullable = true)\n",
      " |-- CRS_ELAPSED_TIME: string (nullable = true)\n",
      " |-- ACTUAL_ELAPSED_TIME: string (nullable = true)\n",
      " |-- DISTANCE: string (nullable = true)\n",
      " |-- DISTANCE_GROUP: string (nullable = true)\n",
      " |-- CARRIER_DELAY: string (nullable = true)\n",
      " |-- WEATHER_DELAY: string (nullable = true)\n",
      " |-- NAS_DELAY: string (nullable = true)\n",
      " |-- SECURITY_DELAY: string (nullable = true)\n",
      " |-- LATE_AIRCRAFT_DELAY: string (nullable = true)\n",
      " |-- _c32: string (nullable = true)\n",
      "\n",
      "+-----+------------+-----------+-----------------+--------+-----------------+-----------------+------+----------------+---------------+----+--------------+------------+--------+-------------+---------+------------+------------+--------+-------------+------------+---------+-----------------+----------------+-------------------+--------+--------------+-------------+-------------+---------+--------------+-------------------+----+\n",
      "|MONTH|DAY_OF_MONTH|DAY_OF_WEEK|OP_UNIQUE_CARRIER|TAIL_NUM|OP_CARRIER_FL_NUM|ORIGIN_AIRPORT_ID|ORIGIN|ORIGIN_CITY_NAME|DEST_AIRPORT_ID|DEST|DEST_CITY_NAME|CRS_DEP_TIME|DEP_TIME|DEP_DELAY_NEW|DEP_DEL15|DEP_TIME_BLK|CRS_ARR_TIME|ARR_TIME|ARR_DELAY_NEW|ARR_TIME_BLK|CANCELLED|CANCELLATION_CODE|CRS_ELAPSED_TIME|ACTUAL_ELAPSED_TIME|DISTANCE|DISTANCE_GROUP|CARRIER_DELAY|WEATHER_DELAY|NAS_DELAY|SECURITY_DELAY|LATE_AIRCRAFT_DELAY|_c32|\n",
      "+-----+------------+-----------+-----------------+--------+-----------------+-----------------+------+----------------+---------------+----+--------------+------------+--------+-------------+---------+------------+------------+--------+-------------+------------+---------+-----------------+----------------+-------------------+--------+--------------+-------------+-------------+---------+--------------+-------------------+----+\n",
      "|1    |6           |7          |9E               |N8694A  |3280             |10397            |ATL   |Atlanta, GA     |11150          |CSG |Columbus, GA  |1645        |1643    |0.00         |0.00     |1600-1659   |1732        |1720    |0.00         |1700-1759   |0.00     |null             |47.00           |37.00              |83.00   |1             |null         |null         |null     |null          |null               |null|\n",
      "|1    |7           |1          |9E               |N8970D  |3280             |10397            |ATL   |Atlanta, GA     |11150          |CSG |Columbus, GA  |1645        |1640    |0.00         |0.00     |1600-1659   |1732        |1712    |0.00         |1700-1759   |0.00     |null             |47.00           |32.00              |83.00   |1             |null         |null         |null     |null          |null               |null|\n",
      "|1    |8           |2          |9E               |N820AY  |3280             |10397            |ATL   |Atlanta, GA     |11150          |CSG |Columbus, GA  |1645        |1640    |0.00         |0.00     |1600-1659   |1732        |1719    |0.00         |1700-1759   |0.00     |null             |47.00           |39.00              |83.00   |1             |null         |null         |null     |null          |null               |null|\n",
      "|1    |9           |3          |9E               |N840AY  |3280             |10397            |ATL   |Atlanta, GA     |11150          |CSG |Columbus, GA  |1645        |1640    |0.00         |0.00     |1600-1659   |1732        |1717    |0.00         |1700-1759   |0.00     |null             |47.00           |37.00              |83.00   |1             |null         |null         |null     |null          |null               |null|\n",
      "|1    |10          |4          |9E               |N8969A  |3280             |10397            |ATL   |Atlanta, GA     |11150          |CSG |Columbus, GA  |1645        |1640    |0.00         |0.00     |1600-1659   |1732        |1721    |0.00         |1700-1759   |0.00     |null             |47.00           |41.00              |83.00   |1             |null         |null         |null     |null          |null               |null|\n",
      "|1    |11          |5          |9E               |N8683B  |3280             |10397            |ATL   |Atlanta, GA     |11150          |CSG |Columbus, GA  |1645        |1640    |0.00         |0.00     |1600-1659   |1732        |1736    |4.00         |1700-1759   |0.00     |null             |47.00           |56.00              |83.00   |1             |null         |null         |null     |null          |null               |null|\n",
      "|1    |13          |7          |9E               |N8688C  |3280             |10397            |ATL   |Atlanta, GA     |11150          |CSG |Columbus, GA  |1645        |1714    |29.00        |1.00     |1600-1659   |1732        |1756    |24.00        |1700-1759   |0.00     |null             |47.00           |42.00              |83.00   |1             |18.00        |0.00         |0.00     |0.00          |6.00               |null|\n",
      "|1    |14          |1          |9E               |N8886A  |3280             |10397            |ATL   |Atlanta, GA     |11150          |CSG |Columbus, GA  |1645        |1639    |0.00         |0.00     |1600-1659   |1732        |1716    |0.00         |1700-1759   |0.00     |null             |47.00           |37.00              |83.00   |1             |null         |null         |null     |null          |null               |null|\n",
      "|1    |15          |2          |9E               |N8928A  |3280             |10397            |ATL   |Atlanta, GA     |11150          |CSG |Columbus, GA  |1645        |1640    |0.00         |0.00     |1600-1659   |1732        |1722    |0.00         |1700-1759   |0.00     |null             |47.00           |42.00              |83.00   |1             |null         |null         |null     |null          |null               |null|\n",
      "|1    |16          |3          |9E               |N981EV  |3280             |10397            |ATL   |Atlanta, GA     |11150          |CSG |Columbus, GA  |1645        |1902    |137.00       |1.00     |1600-1659   |1732        |1944    |132.00       |1700-1759   |0.00     |null             |47.00           |42.00              |83.00   |1             |132.00       |0.00         |0.00     |0.00          |0.00               |null|\n",
      "|1    |17          |4          |9E               |N8986B  |3280             |10397            |ATL   |Atlanta, GA     |11150          |CSG |Columbus, GA  |1645        |1641    |0.00         |0.00     |1600-1659   |1732        |1723    |0.00         |1700-1759   |0.00     |null             |47.00           |42.00              |83.00   |1             |null         |null         |null     |null          |null               |null|\n",
      "|1    |18          |5          |9E               |N8683B  |3280             |10397            |ATL   |Atlanta, GA     |11150          |CSG |Columbus, GA  |1645        |1640    |0.00         |0.00     |1600-1659   |1732        |1716    |0.00         |1700-1759   |0.00     |null             |47.00           |36.00              |83.00   |1             |null         |null         |null     |null          |null               |null|\n",
      "|1    |21          |1          |9E               |N835AY  |3280             |10397            |ATL   |Atlanta, GA     |11150          |CSG |Columbus, GA  |1645        |1641    |0.00         |0.00     |1600-1659   |1732        |1737    |5.00         |1700-1759   |0.00     |null             |47.00           |56.00              |83.00   |1             |null         |null         |null     |null          |null               |null|\n",
      "|1    |22          |2          |9E               |N8896A  |3280             |10397            |ATL   |Atlanta, GA     |11150          |CSG |Columbus, GA  |1645        |1640    |0.00         |0.00     |1600-1659   |1732        |1721    |0.00         |1700-1759   |0.00     |null             |47.00           |41.00              |83.00   |1             |null         |null         |null     |null          |null               |null|\n",
      "|1    |23          |3          |9E               |N8976E  |3280             |10397            |ATL   |Atlanta, GA     |11150          |CSG |Columbus, GA  |1645        |1827    |102.00       |1.00     |1600-1659   |1732        |1913    |101.00       |1700-1759   |0.00     |null             |47.00           |46.00              |83.00   |1             |100.00       |0.00         |0.00     |0.00          |1.00               |null|\n",
      "|1    |24          |4          |9E               |N8980A  |3280             |10397            |ATL   |Atlanta, GA     |11150          |CSG |Columbus, GA  |1645        |1650    |5.00         |0.00     |1600-1659   |1732        |1731    |0.00         |1700-1759   |0.00     |null             |47.00           |41.00              |83.00   |1             |null         |null         |null     |null          |null               |null|\n",
      "|1    |25          |5          |9E               |N927EV  |3280             |10397            |ATL   |Atlanta, GA     |11150          |CSG |Columbus, GA  |1645        |1641    |0.00         |0.00     |1600-1659   |1732        |1720    |0.00         |1700-1759   |0.00     |null             |47.00           |39.00              |83.00   |1             |null         |null         |null     |null          |null               |null|\n",
      "|1    |27          |7          |9E               |N832AY  |3280             |10397            |ATL   |Atlanta, GA     |11150          |CSG |Columbus, GA  |1645        |1638    |0.00         |0.00     |1600-1659   |1732        |1719    |0.00         |1700-1759   |0.00     |null             |47.00           |41.00              |83.00   |1             |null         |null         |null     |null          |null               |null|\n",
      "|1    |28          |1          |9E               |N8986B  |3280             |10397            |ATL   |Atlanta, GA     |11150          |CSG |Columbus, GA  |1645        |1639    |0.00         |0.00     |1600-1659   |1732        |1718    |0.00         |1700-1759   |0.00     |null             |47.00           |39.00              |83.00   |1             |null         |null         |null     |null          |null               |null|\n",
      "|1    |29          |2          |9E               |N8918B  |3280             |10397            |ATL   |Atlanta, GA     |11150          |CSG |Columbus, GA  |1645        |1640    |0.00         |0.00     |1600-1659   |1732        |1712    |0.00         |1700-1759   |0.00     |null             |47.00           |32.00              |83.00   |1             |null         |null         |null     |null          |null               |null|\n",
      "+-----+------------+-----------+-----------------+--------+-----------------+-----------------+------+----------------+---------------+----+--------------+------------+--------+-------------+---------+------------+------------+--------+-------------+------------+---------+-----------------+----------------+-------------------+--------+--------------+-------------+-------------+---------+--------------+-------------------+----+\n",
      "only showing top 20 rows\n",
      "\n"
     ]
    }
   ],
   "source": [
    "df_flight.printSchema()\n",
    "df_flight.show(truncate=False)"
   ]
  },
  {
   "cell_type": "code",
   "execution_count": 133,
   "id": "80280c88-4f18-4ce3-9e01-805f9201261d",
   "metadata": {},
   "outputs": [
    {
     "data": {
      "text/plain": [
       "False"
      ]
     },
     "execution_count": 133,
     "metadata": {},
     "output_type": "execute_result"
    }
   ],
   "source": [
    "# There exists some duplicated airport records\n",
    "df_airport.select(\"ORIGIN_AIRPORT_ID\").distinct().count() == df_airport.count()"
   ]
  },
  {
   "cell_type": "code",
   "execution_count": 134,
   "id": "0c2571d5-d184-44a2-9e12-8adde736a19a",
   "metadata": {},
   "outputs": [],
   "source": [
    "# clever way to remove duplicated airport records\n",
    "df_airport.drop_duplicates(['ORIGIN_AIRPORT_ID']).count()\n",
    "\n",
    "# stupid way remove duplicated airport records\n",
    "airport_window = Window.partitionBy('ORIGIN_AIRPORT_ID').orderBy('ORIGIN_AIRPORT_ID')\n",
    "\n",
    "df_airport_clean = df_airport.withColumn('row_num', row_number().over(airport_window))\\\n",
    "                             .where(col('row_num') == 1)\\\n",
    "                             .drop('row_num')"
   ]
  },
  {
   "cell_type": "code",
   "execution_count": 135,
   "id": "78e90727",
   "metadata": {},
   "outputs": [],
   "source": [
    "# get the number of all flights in each airport\n",
    "df_flight_count = df_flight.groupBy(col('ORIGIN_AIRPORT_ID').alias('AIRPORT_id'))\\\n",
    "                           .agg(count('*').alias('flight_count'))\n",
    "\n",
    "# append to all flights info the name, latitude and longitude of the airport\n",
    "df_flight_count = df_flight_count.join(df_airport_clean, col('AIRPORT_id') == col('ORIGIN_AIRPORT_ID'), 'left')"
   ]
  },
  {
   "cell_type": "code",
   "execution_count": 136,
   "id": "86cca0ca-f598-4c56-8689-3fc84a491fbb",
   "metadata": {},
   "outputs": [
    {
     "data": {
      "text/plain": [
       "True"
      ]
     },
     "execution_count": 136,
     "metadata": {},
     "output_type": "execute_result"
    }
   ],
   "source": [
    "# select the delayed flights\n",
    "df_delay = df_flight.where(df_flight.DEP_DELAY_NEW != 0).select(\"*\")\n",
    "\n",
    "# join flight delay table with airport info tale\n",
    "joinExpression = df_delay[\"ORIGIN_AIRPORT_ID\"] == df_airport_clean['ORIGIN_AIRPORT_ID']\n",
    "df_delay_w_airport_name = df_delay.join(df_airport_clean, joinExpression,\"left\")\n",
    "\n",
    "# checking\n",
    "df_delay.count() == df_delay_w_airport_name.count()"
   ]
  },
  {
   "cell_type": "code",
   "execution_count": 137,
   "id": "8a224741-0164-4514-8db5-348b55e85203",
   "metadata": {},
   "outputs": [],
   "source": [
    "# count delayed flight  for each airport\n",
    "df_flight_summary = df_delay_w_airport_name.groupby('DISPLAY_AIRPORT_NAME')\\\n",
    "                                                .agg(count('*').alias('delayed_flight_count'))\\\n",
    "                                                .orderBy('delayed_flight_count', ascending=False)"
   ]
  },
  {
   "cell_type": "code",
   "execution_count": 138,
   "id": "427d582e",
   "metadata": {
    "tags": []
   },
   "outputs": [],
   "source": [
    "# append to airport-delayed-flight table with detailed info of airport and all flights from airport-all-flights info table\n",
    "df_flight_summary = df_flight_summary.alias('summary').join(df_flight_count.alias('ft_cnt'), \n",
    "                                                            col(\"summary.DISPLAY_AIRPORT_NAME\") == col('ft_cnt.DISPLAY_AIRPORT_NAME'), 'left')\\\n",
    "                                                      .select([col('ft_cnt.ORIGIN_AIRPORT_ID')] +\n",
    "                                                              [col('summary.' + column) for column in df_flight_summary.columns] + \n",
    "                                                              [col('ft_cnt.flight_count'), col('ft_cnt.LATITUDE'), col('ft_cnt.LONGITUDE')])\\\n",
    "                                                      .orderBy('delayed_flight_count', ascending=False)\n",
    "\n",
    "# count the precentage of flight delay for each airport\n",
    "df_flight_summary = df_flight_summary.withColumn('delay_ratio', col('delayed_flight_count') / col('flight_count')) \\\n",
    "                                     .select(col('ORIGIN_AIRPORT_ID'),\n",
    "                                             col('DISPLAY_AIRPORT_NAME'),\n",
    "                                             round(col('delay_ratio'), 3).alias('delay_ratio'),\n",
    "                                             col('delayed_flight_count'),\n",
    "                                             col('flight_count'),\n",
    "                                             round(col('LATITUDE'), 2).alias('LATITUDE'),\n",
    "                                             round(col('LONGITUDE'),2).alias('LONGITUDE'))\\\n",
    "                                     .orderBy('delay_ratio', ascending=False)"
   ]
  },
  {
   "cell_type": "code",
   "execution_count": 139,
   "id": "56b45ef3",
   "metadata": {
    "tags": []
   },
   "outputs": [
    {
     "name": "stdout",
     "output_type": "stream",
     "text": [
      "+-----------------+-----------------------------------------------+-----------+--------------------+------------+--------+---------+\n",
      "|ORIGIN_AIRPORT_ID|DISPLAY_AIRPORT_NAME                           |delay_ratio|delayed_flight_count|flight_count|LATITUDE|LONGITUDE|\n",
      "+-----------------+-----------------------------------------------+-----------+--------------------+------------+--------+---------+\n",
      "|12119            |Hagerstown Regional-Richard A. Henson Field    |1.0        |10                  |10          |39.71   |-77.73   |\n",
      "|13832            |Ogdensburg International                       |0.818      |9                   |11          |44.68   |-75.47   |\n",
      "|13829            |Ogden-Hinckley                                 |0.75       |6                   |8           |41.2    |-112.01  |\n",
      "|12223            |Tri-State/Milton J. Ferguson Field             |0.7        |14                  |20          |38.37   |-82.56   |\n",
      "|13983            |Owensboro Daviess County                       |0.667      |6                   |9           |37.74   |-87.17   |\n",
      "|12917            |Lockbourne AFB                                 |0.659      |27                  |41          |39.81   |-82.93   |\n",
      "|14314            |Provo Municipal                                |0.609      |28                  |46          |40.22   |-111.72  |\n",
      "|14512            |Chicago/Rockford International                 |0.542      |26                  |48          |42.2    |-89.09   |\n",
      "|14716            |Stockton Metropolitan                          |0.538      |28                  |52          |37.89   |-121.24  |\n",
      "|14905            |Santa Maria Public/Capt. G. Allan Hancock Field|0.529      |9                   |17          |34.91   |-120.46  |\n",
      "+-----------------+-----------------------------------------------+-----------+--------------------+------------+--------+---------+\n",
      "only showing top 10 rows\n",
      "\n"
     ]
    }
   ],
   "source": [
    "df_flight_summary.show(10, truncate=False)"
   ]
  },
  {
   "cell_type": "code",
   "execution_count": 140,
   "id": "f6b88553-9b92-471e-9786-054be6ec4a5a",
   "metadata": {},
   "outputs": [
    {
     "name": "stdout",
     "output_type": "stream",
     "text": [
      "+-----------------+--------------------------------------------+-----------+--------------------+------------+--------+---------+\n",
      "|ORIGIN_AIRPORT_ID|DISPLAY_AIRPORT_NAME                        |delay_ratio|delayed_flight_count|flight_count|LATITUDE|LONGITUDE|\n",
      "+-----------------+--------------------------------------------+-----------+--------------------+------------+--------+---------+\n",
      "|10558            |William B. Heilig Field                     |0.057      |3                   |53          |41.88   |-103.6   |\n",
      "|13127            |Lewiston Nez Perce County                   |0.094      |6                   |64          |46.37   |-117.01  |\n",
      "|12899            |North Platte Regional Airport Lee Bird Field|0.094      |5                   |53          |41.13   |-100.7   |\n",
      "|15074            |Searcy Field                                |0.097      |6                   |62          |36.16   |-97.09   |\n",
      "|12177            |Lea County Hobbs                            |0.103      |6                   |58          |32.69   |-103.22  |\n",
      "|12007            |Golden Triangle Regional                    |0.108      |9                   |83          |33.45   |-88.59   |\n",
      "|12129            |Chisholm/Hibbing                            |0.111      |6                   |54          |47.39   |-92.84   |\n",
      "|11468            |Kearney Regional                            |0.113      |6                   |53          |40.73   |-99.0    |\n",
      "|13970            |Ralph Wien Memorial                         |0.113      |7                   |62          |66.89   |-162.61  |\n",
      "|11122            |Casper/Natrona County International         |0.114      |8                   |70          |42.91   |-106.46  |\n",
      "+-----------------+--------------------------------------------+-----------+--------------------+------------+--------+---------+\n",
      "only showing top 10 rows\n",
      "\n"
     ]
    }
   ],
   "source": [
    "df_flight_summary.orderBy('delay_ratio').show(10, truncate=False)"
   ]
  },
  {
   "cell_type": "code",
   "execution_count": 111,
   "id": "b1e00e9f-272e-4129-9d94-39832fc322ff",
   "metadata": {},
   "outputs": [],
   "source": [
    "# Use the Cloud Storage bucket for temporary BigQuery export data used by the connector.\n",
    "bucket = \"dejads_temp_yk\"\n",
    "spark.conf.set('temporaryGcsBucket', bucket)\n",
    "# Saving the data to BigQuery\n",
    "df_flight_summary.write.format('bigquery') \\\n",
    "  .option('table', 'jads-de-2021.assignment_2.flight_delays') \\\n",
    "  .mode(\"append\") \\\n",
    "  .save()"
   ]
  },
  {
   "cell_type": "code",
   "execution_count": 125,
   "id": "8a63d828-d022-43c6-9d0b-6f176970524d",
   "metadata": {},
   "outputs": [
    {
     "name": "stdout",
     "output_type": "stream",
     "text": [
      "+-----------------+-------------------------------------------+-----------+--------------------+------------+--------+---------+\n",
      "|ORIGIN_AIRPORT_ID|DISPLAY_AIRPORT_NAME                       |delay_ratio|delayed_flight_count|flight_count|LATITUDE|LONGITUDE|\n",
      "+-----------------+-------------------------------------------+-----------+--------------------+------------+--------+---------+\n",
      "|12119            |Hagerstown Regional-Richard A. Henson Field|1.0        |10                  |10          |39.71   |-77.73   |\n",
      "+-----------------+-------------------------------------------+-----------+--------------------+------------+--------+---------+\n",
      "\n"
     ]
    }
   ],
   "source": [
    "# get the airport with the most delay rate\n",
    "top_delay = df_flight_summary.limit(1)\n",
    "top_delay.show(truncate=False)\n",
    "\n",
    "# Saving the data to BigQuery\n",
    "top_delay.write.format('bigquery') \\\n",
    "  .option('table', 'jads-de-2021.assignment_2.top_delay') \\\n",
    "  .mode(\"append\") \\\n",
    "  .save()"
   ]
  },
  {
   "cell_type": "code",
   "execution_count": 126,
   "id": "3a3335a6-50b4-4130-997f-5fcae8770be8",
   "metadata": {},
   "outputs": [
    {
     "name": "stdout",
     "output_type": "stream",
     "text": [
      "+-----------------+-------------------------+-----------+--------------------+------------+--------+---------+\n",
      "|ORIGIN_AIRPORT_ID|DISPLAY_AIRPORT_NAME     |delay_ratio|delayed_flight_count|flight_count|LATITUDE|LONGITUDE|\n",
      "+-----------------+-------------------------+-----------+--------------------+------------+--------+---------+\n",
      "|10558            |William B. Heilig Field  |0.057      |3                   |53          |41.88   |-103.6   |\n",
      "|13127            |Lewiston Nez Perce County|0.094      |6                   |64          |46.37   |-117.01  |\n",
      "+-----------------+-------------------------+-----------+--------------------+------------+--------+---------+\n",
      "\n",
      "+-----------------+-------------------------+-----------+--------------------+------------+--------+---------+\n",
      "|ORIGIN_AIRPORT_ID|DISPLAY_AIRPORT_NAME     |delay_ratio|delayed_flight_count|flight_count|LATITUDE|LONGITUDE|\n",
      "+-----------------+-------------------------+-----------+--------------------+------------+--------+---------+\n",
      "|13127            |Lewiston Nez Perce County|0.094      |6                   |64          |46.37   |-117.01  |\n",
      "+-----------------+-------------------------+-----------+--------------------+------------+--------+---------+\n",
      "\n"
     ]
    }
   ],
   "source": [
    "# get the airports with the top 2 least delay rates\n",
    "top_2_least_delay = df_flight_summary.orderBy('delay_ratio').limit(2)\n",
    "top_2_least_delay.show(truncate=False)\n",
    "second_least_delay = top_2_least_delay.orderBy('delay_ratio', ascending=False).limit(1)\n",
    "second_least_delay.show(truncate=False)\n",
    "\n",
    "# Saving the data to BigQuery\n",
    "second_least_delay.write.format('bigquery') \\\n",
    "  .option('table', 'jads-de-2021.assignment_2.second_least_delay') \\\n",
    "  .mode(\"append\") \\\n",
    "  .save()"
   ]
  },
  {
   "cell_type": "code",
   "execution_count": 141,
   "id": "aa621131-26cb-48a8-8f6b-6e01934395ae",
   "metadata": {},
   "outputs": [],
   "source": [
    "# Stop the spark context\n",
    "spark.stop()"
   ]
  }
 ],
 "metadata": {
  "kernelspec": {
   "display_name": "Python 3",
   "language": "python",
   "name": "python3"
  },
  "language_info": {
   "codemirror_mode": {
    "name": "ipython",
    "version": 3
   },
   "file_extension": ".py",
   "mimetype": "text/x-python",
   "name": "python",
   "nbconvert_exporter": "python",
   "pygments_lexer": "ipython3",
   "version": "3.9.4"
  }
 },
 "nbformat": 4,
 "nbformat_minor": 5
}
