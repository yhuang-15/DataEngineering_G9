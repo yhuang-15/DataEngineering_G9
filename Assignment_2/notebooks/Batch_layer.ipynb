{
 "cells": [
  {
   "cell_type": "code",
   "execution_count": 8,
   "id": "256a06e8-5c19-493f-b597-b21467b7d585",
   "metadata": {},
   "outputs": [],
   "source": [
    "from pyspark.sql import SparkSession\n",
    "from pyspark import SparkConf\n",
    "\n",
    "sparkConf = SparkConf()\n",
    "sparkConf.setMaster(\"spark://spark-master:7077\")\n",
    "sparkConf.setAppName(\"Assignment_2_Batch\")\n",
    "sparkConf.set(\"spark.driver.memory\", \"2g\")\n",
    "sparkConf.set(\"spark.executor.cores\", \"1\")\n",
    "sparkConf.set(\"spark.driver.cores\", \"1\")\n",
    "# create the spark session, which is the entry point to Spark SQL engine.\n",
    "spark = SparkSession.builder.config(conf=sparkConf).getOrCreate()\n",
    "\n",
    "# Setup hadoop fs configuration for schema gs://\n",
    "conf = spark.sparkContext._jsc.hadoopConfiguration()\n",
    "conf.set(\"fs.gs.impl\", \"com.google.cloud.hadoop.fs.gcs.GoogleHadoopFileSystem\")\n",
    "conf.set(\"fs.AbstractFileSystem.gs.impl\", \"com.google.cloud.hadoop.fs.gcs.GoogleHadoopFS\")\n",
    "\n",
    "#  Google Storage File Path\n",
    "airport_info_gsc_file_path = 'gs://dejads_a2_input_steven/airports_list.csv'   \n",
    "month_1_delay_gsc_file_path = 'gs://dejads_a2_input_steven/ONTIME_REPORTING_01.csv'   "
   ]
  },
  {
   "cell_type": "code",
   "execution_count": 9,
   "id": "1b08d02a-a5d1-4e2d-87c4-7d1edb2a112a",
   "metadata": {
    "collapsed": true,
    "jupyter": {
     "outputs_hidden": true
    },
    "tags": []
   },
   "outputs": [
    {
     "name": "stdout",
     "output_type": "stream",
     "text": [
      "root\n",
      " |-- ORIGIN_AIRPORT_ID: string (nullable = true)\n",
      " |-- DISPLAY_AIRPORT_NAME: string (nullable = true)\n",
      " |-- ORIGIN_CITY_NAME: string (nullable = true)\n",
      " |-- NAME: string (nullable = true)\n",
      "\n",
      "+-----------------+--------------------+--------------------+--------------------+\n",
      "|ORIGIN_AIRPORT_ID|DISPLAY_AIRPORT_NAME|    ORIGIN_CITY_NAME|                NAME|\n",
      "+-----------------+--------------------+--------------------+--------------------+\n",
      "|            12992|         Adams Field|     Little Rock, AR|NORTH LITTLE ROCK...|\n",
      "|            10257|Albany International|          Albany, NY|ALBANY INTERNATIO...|\n",
      "|            10140|Albuquerque Inter...|     Albuquerque, NM|ALBUQUERQUE INTER...|\n",
      "|            10299|Anchorage Interna...|       Anchorage, AK|ANCHORAGE TED STE...|\n",
      "|            10397|   Atlanta Municipal|         Atlanta, GA|ATLANTA HARTSFIEL...|\n",
      "|            10423|Austin - Bergstro...|          Austin, TX|AUSTIN BERGSTROM ...|\n",
      "|            10599|  Birmingham Airport|      Birmingham, AL|BIRMINGHAM AIRPOR...|\n",
      "|            10529|Bradley Internati...|        Hartford, CT|HARTFORD BRADLEY ...|\n",
      "|            10994|Charleston Intern...|      Charleston, SC|CHARLESTON INTL. ...|\n",
      "|            13232|Chicago Midway In...|         Chicago, IL|CHICAGO OHARE INT...|\n",
      "|            13930|Chicago O'Hare In...|         Chicago, IL|CHICAGO OHARE INT...|\n",
      "|            11193|Cincinnati/Northe...|      Cincinnati, OH|CINCINNATI MUNICI...|\n",
      "|            11042|Cleveland-Hopkins...|       Cleveland, OH|CLEVELAND HOPKINS...|\n",
      "|            11298|Dallas Fort Worth...|Dallas/Fort Worth...|FORT WORTH MEACHA...|\n",
      "|            11259|   Dallas Love Field|          Dallas, TX|DALLAS FAA AIRPOR...|\n",
      "|            11423|Des Moines Municipal|      Des Moines, IA|DES MOINES INTERN...|\n",
      "|            11433|Detroit Metro Way...|         Detroit, MI|DETROIT METRO AIR...|\n",
      "|            11057|   Douglas Municipal|       Charlotte, NC|CHARLOTTE DOUGLAS...|\n",
      "|            11540|El Paso Internati...|         El Paso, TX|EL PASO INTERNATI...|\n",
      "|            13871|     Eppley Airfield|           Omaha, NE|GRAND ISLAND CENT...|\n",
      "+-----------------+--------------------+--------------------+--------------------+\n",
      "only showing top 20 rows\n",
      "\n"
     ]
    }
   ],
   "source": [
    "# Create data frame load batch data\n",
    "df_airport = spark.read.format(\"csv\").option(\"header\", \"true\").load(airport_info_gsc_file_path)"
   ]
  },
  {
   "cell_type": "code",
   "execution_count": 10,
   "id": "aaffb603-d65c-41ad-a8a2-1b827283a9da",
   "metadata": {},
   "outputs": [
    {
     "name": "stdout",
     "output_type": "stream",
     "text": [
      "root\n",
      " |-- ORIGIN_AIRPORT_ID: string (nullable = true)\n",
      " |-- DISPLAY_AIRPORT_NAME: string (nullable = true)\n",
      " |-- ORIGIN_CITY_NAME: string (nullable = true)\n",
      " |-- NAME: string (nullable = true)\n",
      "\n",
      "+-----------------+------------------------------------------+---------------------+-------------------------------------------------------+\n",
      "|ORIGIN_AIRPORT_ID|DISPLAY_AIRPORT_NAME                      |ORIGIN_CITY_NAME     |NAME                                                   |\n",
      "+-----------------+------------------------------------------+---------------------+-------------------------------------------------------+\n",
      "|12992            |Adams Field                               |Little Rock, AR      |NORTH LITTLE ROCK AIRPORT, AR US                       |\n",
      "|10257            |Albany International                      |Albany, NY           |ALBANY INTERNATIONAL AIRPORT, NY US                    |\n",
      "|10140            |Albuquerque International Sunport         |Albuquerque, NM      |ALBUQUERQUE INTERNATIONAL AIRPORT, NM US               |\n",
      "|10299            |Anchorage International                   |Anchorage, AK        |ANCHORAGE TED STEVENS INTERNATIONAL AIRPORT, AK US     |\n",
      "|10397            |Atlanta Municipal                         |Atlanta, GA          |ATLANTA HARTSFIELD JACKSON INTERNATIONAL AIRPORT, GA US|\n",
      "|10423            |Austin - Bergstrom International          |Austin, TX           |AUSTIN BERGSTROM INTERNATIONAL AIRPORT, TX US          |\n",
      "|10599            |Birmingham Airport                        |Birmingham, AL       |BIRMINGHAM AIRPORT, AL US                              |\n",
      "|10529            |Bradley International                     |Hartford, CT         |HARTFORD BRADLEY INTERNATIONAL AIRPORT, CT US          |\n",
      "|10994            |Charleston International                  |Charleston, SC       |CHARLESTON INTL. AIRPORT, SC US                        |\n",
      "|13232            |Chicago Midway International              |Chicago, IL          |CHICAGO OHARE INTERNATIONAL AIRPORT, IL US             |\n",
      "|13930            |Chicago O'Hare International              |Chicago, IL          |CHICAGO OHARE INTERNATIONAL AIRPORT, IL US             |\n",
      "|11193            |Cincinnati/Northern Kentucky International|Cincinnati, OH       |CINCINNATI MUNICIPAL AIRPORT LUNKEN FIELD, OH US       |\n",
      "|11042            |Cleveland-Hopkins International           |Cleveland, OH        |CLEVELAND HOPKINS INTERNATIONAL AIRPORT, OH US         |\n",
      "|11298            |Dallas Fort Worth Regional                |Dallas/Fort Worth, TX|FORT WORTH MEACHAM FIELD, TX US                        |\n",
      "|11259            |Dallas Love Field                         |Dallas, TX           |DALLAS FAA AIRPORT, TX US                              |\n",
      "|11423            |Des Moines Municipal                      |Des Moines, IA       |DES MOINES INTERNATIONAL AIRPORT, IA US                |\n",
      "|11433            |Detroit Metro Wayne County                |Detroit, MI          |DETROIT METRO AIRPORT, MI US                           |\n",
      "|11057            |Douglas Municipal                         |Charlotte, NC        |CHARLOTTE DOUGLAS AIRPORT, NC US                       |\n",
      "|11540            |El Paso International                     |El Paso, TX          |EL PASO INTERNATIONAL AIRPORT, TX US                   |\n",
      "|13871            |Eppley Airfield                           |Omaha, NE            |GRAND ISLAND CENTRAL NE REGIONAL AIRPORT, NE US        |\n",
      "+-----------------+------------------------------------------+---------------------+-------------------------------------------------------+\n",
      "only showing top 20 rows\n",
      "\n"
     ]
    }
   ],
   "source": [
    "df_airport.printSchema()\n",
    "df_airport.show(truncate=False)"
   ]
  },
  {
   "cell_type": "code",
   "execution_count": 11,
   "id": "b19e4582-edbc-48a4-8aba-dd9c3b30df7a",
   "metadata": {},
   "outputs": [],
   "source": [
    "df_delay_01 = spark.read.format(\"csv\").option(\"header\", \"true\").load(month_1_delay_gsc_file_path)"
   ]
  },
  {
   "cell_type": "code",
   "execution_count": 12,
   "id": "9a5172b8-45c8-48cd-a26a-4f932d179a72",
   "metadata": {},
   "outputs": [
    {
     "name": "stdout",
     "output_type": "stream",
     "text": [
      "root\n",
      " |-- MONTH: string (nullable = true)\n",
      " |-- DAY_OF_MONTH: string (nullable = true)\n",
      " |-- DAY_OF_WEEK: string (nullable = true)\n",
      " |-- OP_UNIQUE_CARRIER: string (nullable = true)\n",
      " |-- TAIL_NUM: string (nullable = true)\n",
      " |-- OP_CARRIER_FL_NUM: string (nullable = true)\n",
      " |-- ORIGIN_AIRPORT_ID: string (nullable = true)\n",
      " |-- ORIGIN: string (nullable = true)\n",
      " |-- ORIGIN_CITY_NAME: string (nullable = true)\n",
      " |-- DEST_AIRPORT_ID: string (nullable = true)\n",
      " |-- DEST: string (nullable = true)\n",
      " |-- DEST_CITY_NAME: string (nullable = true)\n",
      " |-- CRS_DEP_TIME: string (nullable = true)\n",
      " |-- DEP_TIME: string (nullable = true)\n",
      " |-- DEP_DELAY_NEW: string (nullable = true)\n",
      " |-- DEP_DEL15: string (nullable = true)\n",
      " |-- DEP_TIME_BLK: string (nullable = true)\n",
      " |-- CRS_ARR_TIME: string (nullable = true)\n",
      " |-- ARR_TIME: string (nullable = true)\n",
      " |-- ARR_DELAY_NEW: string (nullable = true)\n",
      " |-- ARR_TIME_BLK: string (nullable = true)\n",
      " |-- CANCELLED: string (nullable = true)\n",
      " |-- CANCELLATION_CODE: string (nullable = true)\n",
      " |-- CRS_ELAPSED_TIME: string (nullable = true)\n",
      " |-- ACTUAL_ELAPSED_TIME: string (nullable = true)\n",
      " |-- DISTANCE: string (nullable = true)\n",
      " |-- DISTANCE_GROUP: string (nullable = true)\n",
      " |-- CARRIER_DELAY: string (nullable = true)\n",
      " |-- WEATHER_DELAY: string (nullable = true)\n",
      " |-- NAS_DELAY: string (nullable = true)\n",
      " |-- SECURITY_DELAY: string (nullable = true)\n",
      " |-- LATE_AIRCRAFT_DELAY: string (nullable = true)\n",
      " |-- _c32: string (nullable = true)\n",
      "\n",
      "+-----+------------+-----------+-----------------+--------+-----------------+-----------------+------+----------------+---------------+----+--------------+------------+--------+-------------+---------+------------+------------+--------+-------------+------------+---------+-----------------+----------------+-------------------+--------+--------------+-------------+-------------+---------+--------------+-------------------+----+\n",
      "|MONTH|DAY_OF_MONTH|DAY_OF_WEEK|OP_UNIQUE_CARRIER|TAIL_NUM|OP_CARRIER_FL_NUM|ORIGIN_AIRPORT_ID|ORIGIN|ORIGIN_CITY_NAME|DEST_AIRPORT_ID|DEST|DEST_CITY_NAME|CRS_DEP_TIME|DEP_TIME|DEP_DELAY_NEW|DEP_DEL15|DEP_TIME_BLK|CRS_ARR_TIME|ARR_TIME|ARR_DELAY_NEW|ARR_TIME_BLK|CANCELLED|CANCELLATION_CODE|CRS_ELAPSED_TIME|ACTUAL_ELAPSED_TIME|DISTANCE|DISTANCE_GROUP|CARRIER_DELAY|WEATHER_DELAY|NAS_DELAY|SECURITY_DELAY|LATE_AIRCRAFT_DELAY|_c32|\n",
      "+-----+------------+-----------+-----------------+--------+-----------------+-----------------+------+----------------+---------------+----+--------------+------------+--------+-------------+---------+------------+------------+--------+-------------+------------+---------+-----------------+----------------+-------------------+--------+--------------+-------------+-------------+---------+--------------+-------------------+----+\n",
      "|1    |6           |7          |9E               |N8694A  |3280             |10397            |ATL   |Atlanta, GA     |11150          |CSG |Columbus, GA  |1645        |1643    |0.00         |0.00     |1600-1659   |1732        |1720    |0.00         |1700-1759   |0.00     |null             |47.00           |37.00              |83.00   |1             |null         |null         |null     |null          |null               |null|\n",
      "|1    |7           |1          |9E               |N8970D  |3280             |10397            |ATL   |Atlanta, GA     |11150          |CSG |Columbus, GA  |1645        |1640    |0.00         |0.00     |1600-1659   |1732        |1712    |0.00         |1700-1759   |0.00     |null             |47.00           |32.00              |83.00   |1             |null         |null         |null     |null          |null               |null|\n",
      "|1    |8           |2          |9E               |N820AY  |3280             |10397            |ATL   |Atlanta, GA     |11150          |CSG |Columbus, GA  |1645        |1640    |0.00         |0.00     |1600-1659   |1732        |1719    |0.00         |1700-1759   |0.00     |null             |47.00           |39.00              |83.00   |1             |null         |null         |null     |null          |null               |null|\n",
      "|1    |9           |3          |9E               |N840AY  |3280             |10397            |ATL   |Atlanta, GA     |11150          |CSG |Columbus, GA  |1645        |1640    |0.00         |0.00     |1600-1659   |1732        |1717    |0.00         |1700-1759   |0.00     |null             |47.00           |37.00              |83.00   |1             |null         |null         |null     |null          |null               |null|\n",
      "|1    |10          |4          |9E               |N8969A  |3280             |10397            |ATL   |Atlanta, GA     |11150          |CSG |Columbus, GA  |1645        |1640    |0.00         |0.00     |1600-1659   |1732        |1721    |0.00         |1700-1759   |0.00     |null             |47.00           |41.00              |83.00   |1             |null         |null         |null     |null          |null               |null|\n",
      "|1    |11          |5          |9E               |N8683B  |3280             |10397            |ATL   |Atlanta, GA     |11150          |CSG |Columbus, GA  |1645        |1640    |0.00         |0.00     |1600-1659   |1732        |1736    |4.00         |1700-1759   |0.00     |null             |47.00           |56.00              |83.00   |1             |null         |null         |null     |null          |null               |null|\n",
      "|1    |13          |7          |9E               |N8688C  |3280             |10397            |ATL   |Atlanta, GA     |11150          |CSG |Columbus, GA  |1645        |1714    |29.00        |1.00     |1600-1659   |1732        |1756    |24.00        |1700-1759   |0.00     |null             |47.00           |42.00              |83.00   |1             |18.00        |0.00         |0.00     |0.00          |6.00               |null|\n",
      "|1    |14          |1          |9E               |N8886A  |3280             |10397            |ATL   |Atlanta, GA     |11150          |CSG |Columbus, GA  |1645        |1639    |0.00         |0.00     |1600-1659   |1732        |1716    |0.00         |1700-1759   |0.00     |null             |47.00           |37.00              |83.00   |1             |null         |null         |null     |null          |null               |null|\n",
      "|1    |15          |2          |9E               |N8928A  |3280             |10397            |ATL   |Atlanta, GA     |11150          |CSG |Columbus, GA  |1645        |1640    |0.00         |0.00     |1600-1659   |1732        |1722    |0.00         |1700-1759   |0.00     |null             |47.00           |42.00              |83.00   |1             |null         |null         |null     |null          |null               |null|\n",
      "|1    |16          |3          |9E               |N981EV  |3280             |10397            |ATL   |Atlanta, GA     |11150          |CSG |Columbus, GA  |1645        |1902    |137.00       |1.00     |1600-1659   |1732        |1944    |132.00       |1700-1759   |0.00     |null             |47.00           |42.00              |83.00   |1             |132.00       |0.00         |0.00     |0.00          |0.00               |null|\n",
      "|1    |17          |4          |9E               |N8986B  |3280             |10397            |ATL   |Atlanta, GA     |11150          |CSG |Columbus, GA  |1645        |1641    |0.00         |0.00     |1600-1659   |1732        |1723    |0.00         |1700-1759   |0.00     |null             |47.00           |42.00              |83.00   |1             |null         |null         |null     |null          |null               |null|\n",
      "|1    |18          |5          |9E               |N8683B  |3280             |10397            |ATL   |Atlanta, GA     |11150          |CSG |Columbus, GA  |1645        |1640    |0.00         |0.00     |1600-1659   |1732        |1716    |0.00         |1700-1759   |0.00     |null             |47.00           |36.00              |83.00   |1             |null         |null         |null     |null          |null               |null|\n",
      "|1    |21          |1          |9E               |N835AY  |3280             |10397            |ATL   |Atlanta, GA     |11150          |CSG |Columbus, GA  |1645        |1641    |0.00         |0.00     |1600-1659   |1732        |1737    |5.00         |1700-1759   |0.00     |null             |47.00           |56.00              |83.00   |1             |null         |null         |null     |null          |null               |null|\n",
      "|1    |22          |2          |9E               |N8896A  |3280             |10397            |ATL   |Atlanta, GA     |11150          |CSG |Columbus, GA  |1645        |1640    |0.00         |0.00     |1600-1659   |1732        |1721    |0.00         |1700-1759   |0.00     |null             |47.00           |41.00              |83.00   |1             |null         |null         |null     |null          |null               |null|\n",
      "|1    |23          |3          |9E               |N8976E  |3280             |10397            |ATL   |Atlanta, GA     |11150          |CSG |Columbus, GA  |1645        |1827    |102.00       |1.00     |1600-1659   |1732        |1913    |101.00       |1700-1759   |0.00     |null             |47.00           |46.00              |83.00   |1             |100.00       |0.00         |0.00     |0.00          |1.00               |null|\n",
      "|1    |24          |4          |9E               |N8980A  |3280             |10397            |ATL   |Atlanta, GA     |11150          |CSG |Columbus, GA  |1645        |1650    |5.00         |0.00     |1600-1659   |1732        |1731    |0.00         |1700-1759   |0.00     |null             |47.00           |41.00              |83.00   |1             |null         |null         |null     |null          |null               |null|\n",
      "|1    |25          |5          |9E               |N927EV  |3280             |10397            |ATL   |Atlanta, GA     |11150          |CSG |Columbus, GA  |1645        |1641    |0.00         |0.00     |1600-1659   |1732        |1720    |0.00         |1700-1759   |0.00     |null             |47.00           |39.00              |83.00   |1             |null         |null         |null     |null          |null               |null|\n",
      "|1    |27          |7          |9E               |N832AY  |3280             |10397            |ATL   |Atlanta, GA     |11150          |CSG |Columbus, GA  |1645        |1638    |0.00         |0.00     |1600-1659   |1732        |1719    |0.00         |1700-1759   |0.00     |null             |47.00           |41.00              |83.00   |1             |null         |null         |null     |null          |null               |null|\n",
      "|1    |28          |1          |9E               |N8986B  |3280             |10397            |ATL   |Atlanta, GA     |11150          |CSG |Columbus, GA  |1645        |1639    |0.00         |0.00     |1600-1659   |1732        |1718    |0.00         |1700-1759   |0.00     |null             |47.00           |39.00              |83.00   |1             |null         |null         |null     |null          |null               |null|\n",
      "|1    |29          |2          |9E               |N8918B  |3280             |10397            |ATL   |Atlanta, GA     |11150          |CSG |Columbus, GA  |1645        |1640    |0.00         |0.00     |1600-1659   |1732        |1712    |0.00         |1700-1759   |0.00     |null             |47.00           |32.00              |83.00   |1             |null         |null         |null     |null          |null               |null|\n",
      "+-----+------------+-----------+-----------------+--------+-----------------+-----------------+------+----------------+---------------+----+--------------+------------+--------+-------------+---------+------------+------------+--------+-------------+------------+---------+-----------------+----------------+-------------------+--------+--------------+-------------+-------------+---------+--------------+-------------------+----+\n",
      "only showing top 20 rows\n",
      "\n"
     ]
    }
   ],
   "source": [
    "df_delay_01.printSchema()\n",
    "df_delay_01.show(truncate=False)"
   ]
  },
  {
   "cell_type": "code",
   "execution_count": 14,
   "id": "7653ba00-901b-4275-bdfa-8001abff5ba1",
   "metadata": {},
   "outputs": [
    {
     "data": {
      "text/plain": [
       "33"
      ]
     },
     "execution_count": 14,
     "metadata": {},
     "output_type": "execute_result"
    }
   ],
   "source": [
    "len(df_delay_01.columns)"
   ]
  },
  {
   "cell_type": "code",
   "execution_count": 22,
   "id": "86cca0ca-f598-4c56-8689-3fc84a491fbb",
   "metadata": {},
   "outputs": [],
   "source": [
    "from pyspark.sql.functions import col\n",
    "\n",
    "df_delay_per_airport = df_delay_01.where(df_delay_01.DEP_DELAY_NEW == 1).select(\"*\")"
   ]
  },
  {
   "cell_type": "code",
   "execution_count": 24,
   "id": "56b45ef3",
   "metadata": {},
   "outputs": [
    {
     "name": "stdout",
     "output_type": "stream",
     "text": [
      "+-----+------------+-----------+-----------------+--------+-----------------+-----------------+------+--------------------+---------------+----+--------------------+------------+--------+-------------+---------+------------+------------+--------+-------------+------------+---------+-----------------+----------------+-------------------+--------+--------------+-------------+-------------+---------+--------------+-------------------+----+\n",
      "|MONTH|DAY_OF_MONTH|DAY_OF_WEEK|OP_UNIQUE_CARRIER|TAIL_NUM|OP_CARRIER_FL_NUM|ORIGIN_AIRPORT_ID|ORIGIN|    ORIGIN_CITY_NAME|DEST_AIRPORT_ID|DEST|      DEST_CITY_NAME|CRS_DEP_TIME|DEP_TIME|DEP_DELAY_NEW|DEP_DEL15|DEP_TIME_BLK|CRS_ARR_TIME|ARR_TIME|ARR_DELAY_NEW|ARR_TIME_BLK|CANCELLED|CANCELLATION_CODE|CRS_ELAPSED_TIME|ACTUAL_ELAPSED_TIME|DISTANCE|DISTANCE_GROUP|CARRIER_DELAY|WEATHER_DELAY|NAS_DELAY|SECURITY_DELAY|LATE_AIRCRAFT_DELAY|_c32|\n",
      "+-----+------------+-----------+-----------------+--------+-----------------+-----------------+------+--------------------+---------------+----+--------------------+------------+--------+-------------+---------+------------+------------+--------+-------------+------------+---------+-----------------+----------------+-------------------+--------+--------------+-------------+-------------+---------+--------------+-------------------+----+\n",
      "|    1|           1|          2|               9E|  N8688C|             3280|            11953|   GNV|     Gainesville, FL|          10397| ATL|         Atlanta, GA|        0600|    0601|         1.00|     0.00|   0600-0659|        0723|    0722|         0.00|   0700-0759|     0.00|             null|           83.00|              81.00|  300.00|             2|         null|         null|     null|          null|               null|null|\n",
      "|    1|          11|          5|               9E|  N8688C|             3282|            11150|   CSG|        Columbus, GA|          10397| ATL|         Atlanta, GA|        1145|    1146|         1.00|     0.00|   1100-1159|        1235|    1244|         9.00|   1200-1259|     0.00|             null|           50.00|              58.00|   83.00|             1|         null|         null|     null|          null|               null|null|\n",
      "|    1|           3|          4|               9E|  N820AY|             3283|            10397|   ATL|         Atlanta, GA|          15249| TLH|     Tallahassee, FL|        1340|    1341|         1.00|     0.00|   1300-1359|        1451|    1435|         0.00|   1400-1459|     0.00|             null|           71.00|              54.00|  223.00|             1|         null|         null|     null|          null|               null|null|\n",
      "|    1|           6|          7|               9E|  N926XJ|             3283|            15249|   TLH|     Tallahassee, FL|          10397| ATL|         Atlanta, GA|        1759|    1800|         1.00|     0.00|   1700-1759|        1915|    1914|         0.00|   1900-1959|     0.00|             null|           76.00|              74.00|  223.00|             1|         null|         null|     null|          null|               null|null|\n",
      "|    1|          30|          3|               9E|  N330PQ|             3287|            10990|   CHO| Charlottesville, VA|          10397| ATL|         Atlanta, GA|        1836|    1837|         1.00|     0.00|   1800-1859|        2030|    2024|         0.00|   2000-2059|     0.00|             null|          114.00|             107.00|  457.00|             2|         null|         null|     null|          null|               null|null|\n",
      "|    1|          16|          3|               9E|  N607LR|             3295|            11953|   GNV|     Gainesville, FL|          10397| ATL|         Atlanta, GA|        0600|    0601|         1.00|     0.00|   0600-0659|        0722|    0710|         0.00|   0700-0759|     0.00|             null|           82.00|              69.00|  300.00|             2|         null|         null|     null|          null|               null|null|\n",
      "|    1|          16|          3|               9E|  N302PQ|             3302|            10397|   ATL|         Atlanta, GA|          15412| TYS|       Knoxville, TN|        0835|    0836|         1.00|     0.00|   0800-0859|        0933|    0934|         1.00|   0900-0959|     0.00|             null|           58.00|              58.00|  152.00|             1|         null|         null|     null|          null|               null|null|\n",
      "|    1|          25|          5|               9E|  N8928A|             3304|            10397|   ATL|         Atlanta, GA|          11617| EWN|New Bern/Morehead...|        1955|    1956|         1.00|     0.00|   1900-1959|        2125|    2114|         0.00|   2100-2159|     0.00|             null|           90.00|              78.00|  433.00|             2|         null|         null|     null|          null|               null|null|\n",
      "|    1|          13|          7|               9E|  N302PQ|             3306|            10397|   ATL|         Atlanta, GA|          12945| LEX|       Lexington, KY|        1515|    1516|         1.00|     0.00|   1500-1559|        1633|    1625|         0.00|   1600-1659|     0.00|             null|           78.00|              69.00|  304.00|             2|         null|         null|     null|          null|               null|null|\n",
      "|    1|           4|          5|               9E|  N906XJ|             3309|            11995|   GSO|Greensboro/High P...|          10397| ATL|         Atlanta, GA|        1652|    1653|         1.00|     0.00|   1600-1659|        1825|    1822|         0.00|   1800-1859|     0.00|             null|           93.00|              89.00|  306.00|             2|         null|         null|     null|          null|               null|null|\n",
      "|    1|           6|          7|               9E|  N925XJ|             3329|            12953|   LGA|        New York, NY|          14492| RDU|  Raleigh/Durham, NC|        1829|    1830|         1.00|     0.00|   1800-1859|        2027|    2038|        11.00|   2000-2059|     0.00|             null|          118.00|             128.00|  431.00|             2|         null|         null|     null|          null|               null|null|\n",
      "|    1|          14|          1|               9E|  N928XJ|             3329|            12953|   LGA|        New York, NY|          14492| RDU|  Raleigh/Durham, NC|        1829|    1830|         1.00|     0.00|   1800-1859|        2027|    2018|         0.00|   2000-2059|     0.00|             null|          118.00|             108.00|  431.00|             2|         null|         null|     null|          null|               null|null|\n",
      "|    1|          20|          7|               9E|  N293PQ|             3338|            14576|   ROC|       Rochester, NY|          12953| LGA|        New York, NY|        1010|    1011|         1.00|     0.00|   1000-1059|        1144|    1223|        39.00|   1100-1159|     0.00|             null|           94.00|             132.00|  254.00|             2|         0.00|         0.00|    39.00|          0.00|               0.00|null|\n",
      "|    1|          16|          3|               9E|  N8839E|             3340|            12953|   LGA|        New York, NY|          14576| ROC|       Rochester, NY|        0810|    0811|         1.00|     0.00|   0800-0859|        0947|    0928|         0.00|   0900-0959|     0.00|             null|           97.00|              77.00|  254.00|             2|         null|         null|     null|          null|               null|null|\n",
      "|    1|          14|          1|               9E|  N8839E|             3342|            14576|   ROC|       Rochester, NY|          12953| LGA|        New York, NY|        1436|    1437|         1.00|     0.00|   1400-1459|        1600|    1600|         0.00|   1600-1659|     0.00|             null|           84.00|              83.00|  254.00|             2|         null|         null|     null|          null|               null|null|\n",
      "|    1|           2|          3|               9E|  N601LR|             3344|            11637|   FAR|           Fargo, ND|          13487| MSP|     Minneapolis, MN|        1720|    1721|         1.00|     0.00|   1700-1759|        1843|    1905|        22.00|   1800-1859|     0.00|             null|           83.00|             104.00|  223.00|             1|         0.00|         0.00|    22.00|          0.00|               0.00|null|\n",
      "|    1|          16|          3|               9E|  N136EV|             3344|            12953|   LGA|        New York, NY|          14986| SRQ|Sarasota/Bradento...|        1016|    1017|         1.00|     0.00|   1000-1059|        1342|    1325|         0.00|   1300-1359|     0.00|             null|          206.00|             188.00| 1047.00|             5|         null|         null|     null|          null|               null|null|\n",
      "|    1|          22|          2|               9E|  N181PQ|             3349|            14321|   PWM|        Portland, ME|          12478| JFK|        New York, NY|        0600|    0601|         1.00|     0.00|   0600-0659|        0740|    0714|         0.00|   0700-0759|     0.00|             null|          100.00|              73.00|  273.00|             2|         null|         null|     null|          null|               null|null|\n",
      "|    1|          20|          7|               9E|  N8783E|             3350|            13487|   MSP|     Minneapolis, MN|          11203| CWA|         Mosinee, WI|        1515|    1516|         1.00|     0.00|   1500-1559|        1623|    1605|         0.00|   1600-1659|     0.00|             null|           68.00|              49.00|  175.00|             1|         null|         null|     null|          null|               null|null|\n",
      "|    1|          15|          2|               9E|  N307PQ|             3350|            14986|   SRQ|Sarasota/Bradento...|          12953| LGA|        New York, NY|        1417|    1418|         1.00|     0.00|   1400-1459|        1703|    1705|         2.00|   1700-1759|     0.00|             null|          166.00|             167.00| 1047.00|             5|         null|         null|     null|          null|               null|null|\n",
      "+-----+------------+-----------+-----------------+--------+-----------------+-----------------+------+--------------------+---------------+----+--------------------+------------+--------+-------------+---------+------------+------------+--------+-------------+------------+---------+-----------------+----------------+-------------------+--------+--------------+-------------+-------------+---------+--------------+-------------------+----+\n",
      "only showing top 20 rows\n",
      "\n"
     ]
    }
   ],
   "source": [
    "df_delay_per_airport.show()"
   ]
  },
  {
   "cell_type": "code",
   "execution_count": 4,
   "id": "334382e9-d801-4709-a71e-a8de85ce5dae",
   "metadata": {},
   "outputs": [],
   "source": [
    "df.write.format(\"csv\").save(\"gs://dejads_output/lab61.csv\") # use correct bucket name"
   ]
  },
  {
   "cell_type": "code",
   "execution_count": 7,
   "id": "aa621131-26cb-48a8-8f6b-6e01934395ae",
   "metadata": {},
   "outputs": [],
   "source": [
    "# Stop the spark context\n",
    "spark.stop()"
   ]
  }
 ],
 "metadata": {
  "kernelspec": {
   "display_name": "Python 3",
   "language": "python",
   "name": "python3"
  },
  "language_info": {
   "codemirror_mode": {
    "name": "ipython",
    "version": 3
   },
   "file_extension": ".py",
   "mimetype": "text/x-python",
   "name": "python",
   "nbconvert_exporter": "python",
   "pygments_lexer": "ipython3",
   "version": "3.9.4"
  }
 },
 "nbformat": 4,
 "nbformat_minor": 5
}
