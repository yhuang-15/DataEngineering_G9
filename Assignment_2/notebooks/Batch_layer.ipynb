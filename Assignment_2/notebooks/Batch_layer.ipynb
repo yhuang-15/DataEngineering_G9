{
 "cells": [
  {
   "cell_type": "code",
   "execution_count": 58,
   "id": "256a06e8-5c19-493f-b597-b21467b7d585",
   "metadata": {},
   "outputs": [],
   "source": [
    "from pyspark.sql import SparkSession\n",
    "from pyspark import SparkConf\n",
    "\n",
    "sparkConf = SparkConf()\n",
    "sparkConf.setMaster(\"spark://spark-master:7077\")\n",
    "sparkConf.setAppName(\"Assignment_2_Batch\")\n",
    "sparkConf.set(\"spark.driver.memory\", \"2g\")\n",
    "sparkConf.set(\"spark.executor.cores\", \"1\")\n",
    "sparkConf.set(\"spark.driver.cores\", \"1\")\n",
    "# create the spark session, which is the entry point to Spark SQL engine.\n",
    "spark = SparkSession.builder.config(conf=sparkConf).getOrCreate()\n",
    "\n",
    "# Setup hadoop fs configuration for schema gs://\n",
    "conf = spark.sparkContext._jsc.hadoopConfiguration()\n",
    "conf.set(\"fs.gs.impl\", \"com.google.cloud.hadoop.fs.gcs.GoogleHadoopFileSystem\")\n",
    "conf.set(\"fs.AbstractFileSystem.gs.impl\", \"com.google.cloud.hadoop.fs.gcs.GoogleHadoopFS\")\n",
    "\n",
    "#  Google Storage File Path\n",
    "airport_info_gsc_file_path = 'gs://dejads_a2_input_steven/AIRPORT_COORDINATES.csv'   \n",
    "month_1_delay_gsc_file_path = 'gs://dejads_a2_input_steven/ONTIME_REPORTING_01.csv'   "
   ]
  },
  {
   "cell_type": "code",
   "execution_count": 59,
   "id": "1b08d02a-a5d1-4e2d-87c4-7d1edb2a112a",
   "metadata": {
    "tags": []
   },
   "outputs": [],
   "source": [
    "# Create data frame load batch data - AIRPORT_COORDINATES.csv\n",
    "df_airport = spark.read.format(\"csv\").option(\"header\", \"true\").load(airport_info_gsc_file_path)"
   ]
  },
  {
   "cell_type": "code",
   "execution_count": 60,
   "id": "b19e4582-edbc-48a4-8aba-dd9c3b30df7a",
   "metadata": {},
   "outputs": [],
   "source": [
    "# Create data frame load batch data - ONTIME_REPORTING_01.csv\n",
    "df_delay_01 = spark.read.format(\"csv\").option(\"header\", \"true\").load(month_1_delay_gsc_file_path)"
   ]
  },
  {
   "cell_type": "code",
   "execution_count": 3,
   "id": "aaffb603-d65c-41ad-a8a2-1b827283a9da",
   "metadata": {
    "collapsed": true,
    "jupyter": {
     "outputs_hidden": true
    },
    "tags": []
   },
   "outputs": [
    {
     "name": "stdout",
     "output_type": "stream",
     "text": [
      "root\n",
      " |-- ORIGIN_AIRPORT_ID: string (nullable = true)\n",
      " |-- DISPLAY_AIRPORT_NAME: string (nullable = true)\n",
      " |-- LATITUDE: string (nullable = true)\n",
      " |-- LONGITUDE: string (nullable = true)\n",
      "\n",
      "+-----------------+------------------------+-----------+------------+\n",
      "|ORIGIN_AIRPORT_ID|DISPLAY_AIRPORT_NAME    |LATITUDE   |LONGITUDE   |\n",
      "+-----------------+------------------------+-----------+------------+\n",
      "|10001            |Afognak Lake Airport    |58.10944444|-152.9066667|\n",
      "|10003            |Bear Creek Mining Strip |65.54805556|-161.0716667|\n",
      "|10004            |Lik Mining Camp         |68.08333333|-163.1666667|\n",
      "|10005            |Little Squaw Airport    |67.57      |-148.1838889|\n",
      "|10006            |Kizhuyak Bay            |57.74527778|-152.8827778|\n",
      "|10007            |Klawock Seaplane Base   |55.55472222|-133.1016667|\n",
      "|10008            |Elizabeth Island Airport|59.15694444|-151.8291667|\n",
      "|10009            |Augustin Island         |59.36277778|-153.4305556|\n",
      "|10010            |Columbia County         |42.28888889|-73.71027778|\n",
      "|10010            |Columbia County         |42.29138889|-73.71027778|\n",
      "|10011            |Grand Canyon West       |35.99027778|-113.8163889|\n",
      "|10011            |Grand Canyon West       |35.98611111|-113.8169444|\n",
      "|10011            |Grand Canyon West       |35.99027778|-113.8163889|\n",
      "|10011            |Grand Canyon West       |35.98611111|-113.8169444|\n",
      "|10012            |Blairstown Airport      |40.97111111|-74.9975    |\n",
      "|10013            |Crosbyton Municipal     |33.62388889|-101.2408333|\n",
      "|10014            |Blair Lake              |64.36416667|-147.3613889|\n",
      "|10014            |Blair Lake              |64.36361111|-147.3638889|\n",
      "|10015            |Deadmans Bay Airport    |57.06666667|-153.9377778|\n",
      "|10016            |Hallo Bay Airport       |58.4575    |-154.0233333|\n",
      "+-----------------+------------------------+-----------+------------+\n",
      "only showing top 20 rows\n",
      "\n"
     ]
    }
   ],
   "source": [
    "df_airport.printSchema()\n",
    "df_airport.show(truncate=False)"
   ]
  },
  {
   "cell_type": "code",
   "execution_count": 5,
   "id": "9a5172b8-45c8-48cd-a26a-4f932d179a72",
   "metadata": {
    "collapsed": true,
    "jupyter": {
     "outputs_hidden": true
    },
    "tags": []
   },
   "outputs": [
    {
     "name": "stdout",
     "output_type": "stream",
     "text": [
      "root\n",
      " |-- MONTH: string (nullable = true)\n",
      " |-- DAY_OF_MONTH: string (nullable = true)\n",
      " |-- DAY_OF_WEEK: string (nullable = true)\n",
      " |-- OP_UNIQUE_CARRIER: string (nullable = true)\n",
      " |-- TAIL_NUM: string (nullable = true)\n",
      " |-- OP_CARRIER_FL_NUM: string (nullable = true)\n",
      " |-- ORIGIN_AIRPORT_ID: string (nullable = true)\n",
      " |-- ORIGIN: string (nullable = true)\n",
      " |-- ORIGIN_CITY_NAME: string (nullable = true)\n",
      " |-- DEST_AIRPORT_ID: string (nullable = true)\n",
      " |-- DEST: string (nullable = true)\n",
      " |-- DEST_CITY_NAME: string (nullable = true)\n",
      " |-- CRS_DEP_TIME: string (nullable = true)\n",
      " |-- DEP_TIME: string (nullable = true)\n",
      " |-- DEP_DELAY_NEW: string (nullable = true)\n",
      " |-- DEP_DEL15: string (nullable = true)\n",
      " |-- DEP_TIME_BLK: string (nullable = true)\n",
      " |-- CRS_ARR_TIME: string (nullable = true)\n",
      " |-- ARR_TIME: string (nullable = true)\n",
      " |-- ARR_DELAY_NEW: string (nullable = true)\n",
      " |-- ARR_TIME_BLK: string (nullable = true)\n",
      " |-- CANCELLED: string (nullable = true)\n",
      " |-- CANCELLATION_CODE: string (nullable = true)\n",
      " |-- CRS_ELAPSED_TIME: string (nullable = true)\n",
      " |-- ACTUAL_ELAPSED_TIME: string (nullable = true)\n",
      " |-- DISTANCE: string (nullable = true)\n",
      " |-- DISTANCE_GROUP: string (nullable = true)\n",
      " |-- CARRIER_DELAY: string (nullable = true)\n",
      " |-- WEATHER_DELAY: string (nullable = true)\n",
      " |-- NAS_DELAY: string (nullable = true)\n",
      " |-- SECURITY_DELAY: string (nullable = true)\n",
      " |-- LATE_AIRCRAFT_DELAY: string (nullable = true)\n",
      " |-- _c32: string (nullable = true)\n",
      "\n",
      "+-----+------------+-----------+-----------------+--------+-----------------+-----------------+------+----------------+---------------+----+--------------+------------+--------+-------------+---------+------------+------------+--------+-------------+------------+---------+-----------------+----------------+-------------------+--------+--------------+-------------+-------------+---------+--------------+-------------------+----+\n",
      "|MONTH|DAY_OF_MONTH|DAY_OF_WEEK|OP_UNIQUE_CARRIER|TAIL_NUM|OP_CARRIER_FL_NUM|ORIGIN_AIRPORT_ID|ORIGIN|ORIGIN_CITY_NAME|DEST_AIRPORT_ID|DEST|DEST_CITY_NAME|CRS_DEP_TIME|DEP_TIME|DEP_DELAY_NEW|DEP_DEL15|DEP_TIME_BLK|CRS_ARR_TIME|ARR_TIME|ARR_DELAY_NEW|ARR_TIME_BLK|CANCELLED|CANCELLATION_CODE|CRS_ELAPSED_TIME|ACTUAL_ELAPSED_TIME|DISTANCE|DISTANCE_GROUP|CARRIER_DELAY|WEATHER_DELAY|NAS_DELAY|SECURITY_DELAY|LATE_AIRCRAFT_DELAY|_c32|\n",
      "+-----+------------+-----------+-----------------+--------+-----------------+-----------------+------+----------------+---------------+----+--------------+------------+--------+-------------+---------+------------+------------+--------+-------------+------------+---------+-----------------+----------------+-------------------+--------+--------------+-------------+-------------+---------+--------------+-------------------+----+\n",
      "|1    |6           |7          |9E               |N8694A  |3280             |10397            |ATL   |Atlanta, GA     |11150          |CSG |Columbus, GA  |1645        |1643    |0.00         |0.00     |1600-1659   |1732        |1720    |0.00         |1700-1759   |0.00     |null             |47.00           |37.00              |83.00   |1             |null         |null         |null     |null          |null               |null|\n",
      "|1    |7           |1          |9E               |N8970D  |3280             |10397            |ATL   |Atlanta, GA     |11150          |CSG |Columbus, GA  |1645        |1640    |0.00         |0.00     |1600-1659   |1732        |1712    |0.00         |1700-1759   |0.00     |null             |47.00           |32.00              |83.00   |1             |null         |null         |null     |null          |null               |null|\n",
      "|1    |8           |2          |9E               |N820AY  |3280             |10397            |ATL   |Atlanta, GA     |11150          |CSG |Columbus, GA  |1645        |1640    |0.00         |0.00     |1600-1659   |1732        |1719    |0.00         |1700-1759   |0.00     |null             |47.00           |39.00              |83.00   |1             |null         |null         |null     |null          |null               |null|\n",
      "|1    |9           |3          |9E               |N840AY  |3280             |10397            |ATL   |Atlanta, GA     |11150          |CSG |Columbus, GA  |1645        |1640    |0.00         |0.00     |1600-1659   |1732        |1717    |0.00         |1700-1759   |0.00     |null             |47.00           |37.00              |83.00   |1             |null         |null         |null     |null          |null               |null|\n",
      "|1    |10          |4          |9E               |N8969A  |3280             |10397            |ATL   |Atlanta, GA     |11150          |CSG |Columbus, GA  |1645        |1640    |0.00         |0.00     |1600-1659   |1732        |1721    |0.00         |1700-1759   |0.00     |null             |47.00           |41.00              |83.00   |1             |null         |null         |null     |null          |null               |null|\n",
      "|1    |11          |5          |9E               |N8683B  |3280             |10397            |ATL   |Atlanta, GA     |11150          |CSG |Columbus, GA  |1645        |1640    |0.00         |0.00     |1600-1659   |1732        |1736    |4.00         |1700-1759   |0.00     |null             |47.00           |56.00              |83.00   |1             |null         |null         |null     |null          |null               |null|\n",
      "|1    |13          |7          |9E               |N8688C  |3280             |10397            |ATL   |Atlanta, GA     |11150          |CSG |Columbus, GA  |1645        |1714    |29.00        |1.00     |1600-1659   |1732        |1756    |24.00        |1700-1759   |0.00     |null             |47.00           |42.00              |83.00   |1             |18.00        |0.00         |0.00     |0.00          |6.00               |null|\n",
      "|1    |14          |1          |9E               |N8886A  |3280             |10397            |ATL   |Atlanta, GA     |11150          |CSG |Columbus, GA  |1645        |1639    |0.00         |0.00     |1600-1659   |1732        |1716    |0.00         |1700-1759   |0.00     |null             |47.00           |37.00              |83.00   |1             |null         |null         |null     |null          |null               |null|\n",
      "|1    |15          |2          |9E               |N8928A  |3280             |10397            |ATL   |Atlanta, GA     |11150          |CSG |Columbus, GA  |1645        |1640    |0.00         |0.00     |1600-1659   |1732        |1722    |0.00         |1700-1759   |0.00     |null             |47.00           |42.00              |83.00   |1             |null         |null         |null     |null          |null               |null|\n",
      "|1    |16          |3          |9E               |N981EV  |3280             |10397            |ATL   |Atlanta, GA     |11150          |CSG |Columbus, GA  |1645        |1902    |137.00       |1.00     |1600-1659   |1732        |1944    |132.00       |1700-1759   |0.00     |null             |47.00           |42.00              |83.00   |1             |132.00       |0.00         |0.00     |0.00          |0.00               |null|\n",
      "|1    |17          |4          |9E               |N8986B  |3280             |10397            |ATL   |Atlanta, GA     |11150          |CSG |Columbus, GA  |1645        |1641    |0.00         |0.00     |1600-1659   |1732        |1723    |0.00         |1700-1759   |0.00     |null             |47.00           |42.00              |83.00   |1             |null         |null         |null     |null          |null               |null|\n",
      "|1    |18          |5          |9E               |N8683B  |3280             |10397            |ATL   |Atlanta, GA     |11150          |CSG |Columbus, GA  |1645        |1640    |0.00         |0.00     |1600-1659   |1732        |1716    |0.00         |1700-1759   |0.00     |null             |47.00           |36.00              |83.00   |1             |null         |null         |null     |null          |null               |null|\n",
      "|1    |21          |1          |9E               |N835AY  |3280             |10397            |ATL   |Atlanta, GA     |11150          |CSG |Columbus, GA  |1645        |1641    |0.00         |0.00     |1600-1659   |1732        |1737    |5.00         |1700-1759   |0.00     |null             |47.00           |56.00              |83.00   |1             |null         |null         |null     |null          |null               |null|\n",
      "|1    |22          |2          |9E               |N8896A  |3280             |10397            |ATL   |Atlanta, GA     |11150          |CSG |Columbus, GA  |1645        |1640    |0.00         |0.00     |1600-1659   |1732        |1721    |0.00         |1700-1759   |0.00     |null             |47.00           |41.00              |83.00   |1             |null         |null         |null     |null          |null               |null|\n",
      "|1    |23          |3          |9E               |N8976E  |3280             |10397            |ATL   |Atlanta, GA     |11150          |CSG |Columbus, GA  |1645        |1827    |102.00       |1.00     |1600-1659   |1732        |1913    |101.00       |1700-1759   |0.00     |null             |47.00           |46.00              |83.00   |1             |100.00       |0.00         |0.00     |0.00          |1.00               |null|\n",
      "|1    |24          |4          |9E               |N8980A  |3280             |10397            |ATL   |Atlanta, GA     |11150          |CSG |Columbus, GA  |1645        |1650    |5.00         |0.00     |1600-1659   |1732        |1731    |0.00         |1700-1759   |0.00     |null             |47.00           |41.00              |83.00   |1             |null         |null         |null     |null          |null               |null|\n",
      "|1    |25          |5          |9E               |N927EV  |3280             |10397            |ATL   |Atlanta, GA     |11150          |CSG |Columbus, GA  |1645        |1641    |0.00         |0.00     |1600-1659   |1732        |1720    |0.00         |1700-1759   |0.00     |null             |47.00           |39.00              |83.00   |1             |null         |null         |null     |null          |null               |null|\n",
      "|1    |27          |7          |9E               |N832AY  |3280             |10397            |ATL   |Atlanta, GA     |11150          |CSG |Columbus, GA  |1645        |1638    |0.00         |0.00     |1600-1659   |1732        |1719    |0.00         |1700-1759   |0.00     |null             |47.00           |41.00              |83.00   |1             |null         |null         |null     |null          |null               |null|\n",
      "|1    |28          |1          |9E               |N8986B  |3280             |10397            |ATL   |Atlanta, GA     |11150          |CSG |Columbus, GA  |1645        |1639    |0.00         |0.00     |1600-1659   |1732        |1718    |0.00         |1700-1759   |0.00     |null             |47.00           |39.00              |83.00   |1             |null         |null         |null     |null          |null               |null|\n",
      "|1    |29          |2          |9E               |N8918B  |3280             |10397            |ATL   |Atlanta, GA     |11150          |CSG |Columbus, GA  |1645        |1640    |0.00         |0.00     |1600-1659   |1732        |1712    |0.00         |1700-1759   |0.00     |null             |47.00           |32.00              |83.00   |1             |null         |null         |null     |null          |null               |null|\n",
      "+-----+------------+-----------+-----------------+--------+-----------------+-----------------+------+----------------+---------------+----+--------------+------------+--------+-------------+---------+------------+------------+--------+-------------+------------+---------+-----------------+----------------+-------------------+--------+--------------+-------------+-------------+---------+--------------+-------------------+----+\n",
      "only showing top 20 rows\n",
      "\n"
     ]
    }
   ],
   "source": [
    "df_delay_01.printSchema()\n",
    "df_delay_01.show(truncate=False)"
   ]
  },
  {
   "cell_type": "code",
   "execution_count": 66,
   "id": "80280c88-4f18-4ce3-9e01-805f9201261d",
   "metadata": {},
   "outputs": [
    {
     "data": {
      "text/plain": [
       "6573"
      ]
     },
     "execution_count": 66,
     "metadata": {},
     "output_type": "execute_result"
    }
   ],
   "source": [
    "df_airport.select(\"ORIGIN_AIRPORT_ID\").distinct().count()"
   ]
  },
  {
   "cell_type": "code",
   "execution_count": 67,
   "id": "89f11cf0-1024-4369-90d1-975f90a83b41",
   "metadata": {},
   "outputs": [
    {
     "data": {
      "text/plain": [
       "18133"
      ]
     },
     "execution_count": 67,
     "metadata": {},
     "output_type": "execute_result"
    }
   ],
   "source": [
    "# There exists some duplicated airport records\n",
    "df_airport.count()"
   ]
  },
  {
   "cell_type": "code",
   "execution_count": 70,
   "id": "0c2571d5-d184-44a2-9e12-8adde736a19a",
   "metadata": {},
   "outputs": [
    {
     "data": {
      "text/plain": [
       "6573"
      ]
     },
     "execution_count": 70,
     "metadata": {},
     "output_type": "execute_result"
    }
   ],
   "source": [
    "# clever way to remove duplicated airport records\n",
    "\n",
    "df_airport.drop_duplicates(['ORIGIN_AIRPORT_ID']).count()"
   ]
  },
  {
   "cell_type": "code",
   "execution_count": 72,
   "id": "8506f4b4-1588-4410-8892-d32c902566bf",
   "metadata": {},
   "outputs": [],
   "source": [
    "from pyspark.sql.window import Window\n",
    "from pyspark.sql.functions import row_number, col\n",
    "\n",
    "# stupid way remove duplicated airport records\n",
    "airport_window = Window.partitionBy('ORIGIN_AIRPORT_ID').orderBy('ORIGIN_AIRPORT_ID')\n",
    "\n",
    "df_airport_clean = df_airport.withColumn('row_num', row_number().over(airport_window))\\\n",
    "                             .where(col('row_num') == 1)\\\n",
    "                             .drop('row_num')"
   ]
  },
  {
   "cell_type": "code",
   "execution_count": 73,
   "id": "090fc34f-0f75-4810-92db-5b80a6ea432d",
   "metadata": {},
   "outputs": [
    {
     "data": {
      "text/plain": [
       "6573"
      ]
     },
     "execution_count": 73,
     "metadata": {},
     "output_type": "execute_result"
    }
   ],
   "source": [
    "df_airport_clean.count()"
   ]
  },
  {
   "cell_type": "code",
   "execution_count": 77,
   "id": "ee8b7cf3-6b81-45bc-8b16-bcbb070839f1",
   "metadata": {
    "tags": []
   },
   "outputs": [],
   "source": [
    "info_columns = ['DAY_OF_MONTH', 'DAY_OF_WEEK', 'OP_UNIQUE_CARRIER', 'TAIL_NUM', \n",
    "                'OP_CARRIER_FL_NUM', 'ORIGIN_AIRPORT_ID', 'ORIGIN', 'DEST', 'DEP_TIME', \n",
    "                'ARR_TIME', 'DEP_DELAY_NEW']"
   ]
  },
  {
   "cell_type": "code",
   "execution_count": 88,
   "id": "86cca0ca-f598-4c56-8689-3fc84a491fbb",
   "metadata": {},
   "outputs": [],
   "source": [
    "df_delay_per_airport = df_delay_01.where(df_delay_01.DEP_DELAY_NEW != 0).select(\"*\")\n",
    "\n",
    "# join flight delay table with airport info tale\n",
    "joinExpression = df_delay_per_airport[\"ORIGIN_AIRPORT_ID\"] == df_airport_clean['ORIGIN_AIRPORT_ID']\n",
    "df_delay_01_w_airport_name = df_delay_per_airport.join(df_airport_clean, joinExpression,\"left\")"
   ]
  },
  {
   "cell_type": "code",
   "execution_count": 89,
   "id": "ab2f51f8-d2f1-4631-bcaa-b89e1bee11b4",
   "metadata": {},
   "outputs": [
    {
     "data": {
      "text/plain": [
       "185482"
      ]
     },
     "execution_count": 89,
     "metadata": {},
     "output_type": "execute_result"
    }
   ],
   "source": [
    "df_delay_01.where(df_delay_01.DEP_DELAY_NEW != 0).select(\"*\").count()"
   ]
  },
  {
   "cell_type": "code",
   "execution_count": 85,
   "id": "ceb0dc1f-6ffd-4233-9c42-238943bc1a1d",
   "metadata": {},
   "outputs": [
    {
     "data": {
      "text/plain": [
       "185482"
      ]
     },
     "execution_count": 85,
     "metadata": {},
     "output_type": "execute_result"
    }
   ],
   "source": [
    "df_delay_per_airport.count()"
   ]
  },
  {
   "cell_type": "code",
   "execution_count": 86,
   "id": "89bca59c-b167-4ec9-b6bb-8ab438018767",
   "metadata": {},
   "outputs": [
    {
     "data": {
      "text/plain": [
       "185482"
      ]
     },
     "execution_count": 86,
     "metadata": {},
     "output_type": "execute_result"
    }
   ],
   "source": [
    "df_delay_01_w_airport_name.count()"
   ]
  },
  {
   "cell_type": "code",
   "execution_count": 90,
   "id": "3205118d-31b7-4f1e-92b5-39f42829eb1f",
   "metadata": {},
   "outputs": [],
   "source": [
    "info_columns_new = info_columns + ['DISPLAY_AIRPORT_NAME']\n",
    "info_columns_new.remove('ORIGIN_AIRPORT_ID')"
   ]
  },
  {
   "cell_type": "code",
   "execution_count": 91,
   "id": "364a9cf1-17d5-4748-be0c-77130690a1cd",
   "metadata": {
    "tags": []
   },
   "outputs": [
    {
     "name": "stdout",
     "output_type": "stream",
     "text": [
      "+------------+-----------+-----------------+--------+-----------------+------+----+--------+--------+-------------+------------------------------------------+\n",
      "|DAY_OF_MONTH|DAY_OF_WEEK|OP_UNIQUE_CARRIER|TAIL_NUM|OP_CARRIER_FL_NUM|ORIGIN|DEST|DEP_TIME|ARR_TIME|DEP_DELAY_NEW|DISPLAY_AIRPORT_NAME                      |\n",
      "+------------+-----------+-----------------+--------+-----------------+------+----+--------+--------+-------------+------------------------------------------+\n",
      "|13          |7          |9E               |N8688C  |3280             |ATL   |CSG |1714    |1756    |29.00        |Atlanta Municipal                         |\n",
      "|16          |3          |9E               |N981EV  |3280             |ATL   |CSG |1902    |1944    |137.00       |Atlanta Municipal                         |\n",
      "|23          |3          |9E               |N8976E  |3280             |ATL   |CSG |1827    |1913    |102.00       |Atlanta Municipal                         |\n",
      "|24          |4          |9E               |N8980A  |3280             |ATL   |CSG |1650    |1731    |5.00         |Atlanta Municipal                         |\n",
      "|13          |7          |9E               |N8688C  |3280             |CSG   |ATL |1820    |1924    |17.00        |Columbus Metropolitan                     |\n",
      "|16          |3          |9E               |N981EV  |3280             |CSG   |ATL |2005    |2105    |122.00       |Columbus Metropolitan                     |\n",
      "|18          |5          |9E               |N8683B  |3280             |CSG   |ATL |1823    |1908    |20.00        |Columbus Metropolitan                     |\n",
      "|23          |3          |9E               |N8976E  |3280             |CSG   |ATL |2225    |2336    |262.00       |Columbus Metropolitan                     |\n",
      "|2           |3          |9E               |N8775A  |3280             |CVG   |ORD |1308    |1318    |218.00       |Cincinnati/Northern Kentucky International|\n",
      "|1           |2          |9E               |N8688C  |3280             |GNV   |ATL |0601    |0722    |1.00         |Gainesville Regional                      |\n",
      "+------------+-----------+-----------------+--------+-----------------+------+----+--------+--------+-------------+------------------------------------------+\n",
      "only showing top 10 rows\n",
      "\n"
     ]
    }
   ],
   "source": [
    "df_delay_01_w_airport_name.select(info_columns_new).show(10, truncate=False)"
   ]
  },
  {
   "cell_type": "code",
   "execution_count": 97,
   "id": "8a224741-0164-4514-8db5-348b55e85203",
   "metadata": {},
   "outputs": [],
   "source": [
    "from pyspark.sql.functions import asc, desc\n",
    "\n",
    "df_delay_01_summary = df_delay_01_w_airport_name.groupby('DISPLAY_AIRPORT_NAME')\\\n",
    "                                                .count()\\\n",
    "                                                .orderBy('count', ascending=False)"
   ]
  },
  {
   "cell_type": "code",
   "execution_count": 98,
   "id": "56b45ef3",
   "metadata": {
    "tags": []
   },
   "outputs": [
    {
     "name": "stdout",
     "output_type": "stream",
     "text": [
      "+--------------------------------+-----+\n",
      "|DISPLAY_AIRPORT_NAME            |count|\n",
      "+--------------------------------+-----+\n",
      "|Chicago O'Hare International    |10285|\n",
      "|Atlanta Municipal               |9232 |\n",
      "|Dallas Fort Worth Regional      |7827 |\n",
      "|Stapleton International         |7080 |\n",
      "|Los Angeles International       |6267 |\n",
      "|Douglas Municipal               |6118 |\n",
      "|LaGuardia                       |5320 |\n",
      "|McCarran International          |4858 |\n",
      "|Phoenix Sky Harbor International|4837 |\n",
      "|San Francisco International     |4655 |\n",
      "+--------------------------------+-----+\n",
      "only showing top 10 rows\n",
      "\n"
     ]
    }
   ],
   "source": [
    "df_delay_01_summary.show(10, truncate=False)"
   ]
  },
  {
   "cell_type": "code",
   "execution_count": 4,
   "id": "334382e9-d801-4709-a71e-a8de85ce5dae",
   "metadata": {},
   "outputs": [],
   "source": [
    "df.write.format(\"csv\").save(\"gs://dejads_output/lab61.csv\") # use correct bucket name"
   ]
  },
  {
   "cell_type": "code",
   "execution_count": 57,
   "id": "aa621131-26cb-48a8-8f6b-6e01934395ae",
   "metadata": {},
   "outputs": [],
   "source": [
    "# Stop the spark context\n",
    "spark.stop()"
   ]
  }
 ],
 "metadata": {
  "kernelspec": {
   "display_name": "Python 3",
   "language": "python",
   "name": "python3"
  },
  "language_info": {
   "codemirror_mode": {
    "name": "ipython",
    "version": 3
   },
   "file_extension": ".py",
   "mimetype": "text/x-python",
   "name": "python",
   "nbconvert_exporter": "python",
   "pygments_lexer": "ipython3",
   "version": "3.9.4"
  }
 },
 "nbformat": 4,
 "nbformat_minor": 5
}
